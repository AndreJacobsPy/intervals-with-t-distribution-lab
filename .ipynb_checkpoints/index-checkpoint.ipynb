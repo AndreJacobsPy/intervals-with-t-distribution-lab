{
 "cells": [
  {
   "cell_type": "markdown",
   "metadata": {},
   "source": [
    "# Confidence Intervals with T Distribution - Lab"
   ]
  },
  {
   "cell_type": "markdown",
   "metadata": {},
   "source": [
    "## Introduction\n",
    "\n",
    "In the previous lab, we saw that if we have the standard deviation for the population, we can use use $z$-score to calculate our confidence interval using the mean of sample means. \n",
    "\n",
    "If, on the other hand, the standard deviation of the population is not known (which is usually the case), you have to use the standard deviation of your sample as a stand-in when creating confidence intervals. Since the sample standard deviation is often different than that of the population, further potential errors are introduced to our confidence intervals. To account for this error, we use what's known as a t-critical value instead of the $z$-critical value.\n",
    "\n",
    "The t-critical value is drawn from what's known as a t-distribution.\n",
    "> A t-distribution  closely resembles the normal distribution but gets wider and wider as the sample size falls.\n",
    "\n",
    "<img src=\"https://raw.githubusercontent.com/learn-co-curriculum/dsc-intervals-with-t-distribution-lab/master/images/new_t-distr-img.png\" alt=\"comparison of t and z distributions\" width=\"500\">\n",
    "\n",
    "The t-distribution is available in `scipy.stats` with the nickname \"t\" so we can get t-critical values with `stats.t.ppf()`."
   ]
  },
  {
   "cell_type": "markdown",
   "metadata": {},
   "source": [
    "## Objectives\n",
    "\n",
    "You will be able to:\n",
    "\n",
    "* Calculate confidence intervals using the t-distribution\n",
    "* Interpret confidence intervals in relation to true population parameters"
   ]
  },
  {
   "cell_type": "markdown",
   "metadata": {},
   "source": [
    "## Let's Get Started!"
   ]
  },
  {
   "cell_type": "code",
   "execution_count": 3,
   "metadata": {},
   "outputs": [],
   "source": [
    "# Run this cell without changes\n",
    "# Import the necessary libraries\n",
    "import numpy as np\n",
    "import pandas as pd\n",
    "import scipy.stats as stats\n",
    "import matplotlib.pyplot as plt\n",
    "from matplotlib.lines import Line2D\n",
    "import random\n",
    "import math\n",
    "plt.style.use(\"ggplot\")"
   ]
  },
  {
   "cell_type": "markdown",
   "metadata": {},
   "source": [
    "Let's investigate point estimates by generating a population of random age data collected at two different locations and then drawing a sample from it to estimate the mean:"
   ]
  },
  {
   "cell_type": "code",
   "execution_count": 4,
   "metadata": {},
   "outputs": [
    {
     "data": {
      "text/html": [
       "<div>\n",
       "<style scoped>\n",
       "    .dataframe tbody tr th:only-of-type {\n",
       "        vertical-align: middle;\n",
       "    }\n",
       "\n",
       "    .dataframe tbody tr th {\n",
       "        vertical-align: top;\n",
       "    }\n",
       "\n",
       "    .dataframe thead th {\n",
       "        text-align: right;\n",
       "    }\n",
       "</style>\n",
       "<table border=\"1\" class=\"dataframe\">\n",
       "  <thead>\n",
       "    <tr style=\"text-align: right;\">\n",
       "      <th></th>\n",
       "      <th>Age</th>\n",
       "    </tr>\n",
       "  </thead>\n",
       "  <tbody>\n",
       "    <tr>\n",
       "      <th>count</th>\n",
       "      <td>20000.000000</td>\n",
       "    </tr>\n",
       "    <tr>\n",
       "      <th>mean</th>\n",
       "      <td>21.008578</td>\n",
       "    </tr>\n",
       "    <tr>\n",
       "      <th>std</th>\n",
       "      <td>3.671277</td>\n",
       "    </tr>\n",
       "    <tr>\n",
       "      <th>min</th>\n",
       "      <td>4.784588</td>\n",
       "    </tr>\n",
       "    <tr>\n",
       "      <th>25%</th>\n",
       "      <td>18.662256</td>\n",
       "    </tr>\n",
       "    <tr>\n",
       "      <th>50%</th>\n",
       "      <td>21.163276</td>\n",
       "    </tr>\n",
       "    <tr>\n",
       "      <th>75%</th>\n",
       "      <td>23.489438</td>\n",
       "    </tr>\n",
       "    <tr>\n",
       "      <th>max</th>\n",
       "      <td>36.140116</td>\n",
       "    </tr>\n",
       "  </tbody>\n",
       "</table>\n",
       "</div>"
      ],
      "text/plain": [
       "                Age\n",
       "count  20000.000000\n",
       "mean      21.008578\n",
       "std        3.671277\n",
       "min        4.784588\n",
       "25%       18.662256\n",
       "50%       21.163276\n",
       "75%       23.489438\n",
       "max       36.140116"
      ]
     },
     "execution_count": 4,
     "metadata": {},
     "output_type": "execute_result"
    },
    {
     "data": {
      "image/png": "[encoded data removed]",
      "text/plain": [
       "<Figure size 648x648 with 1 Axes>"
      ]
     },
     "metadata": {},
     "output_type": "display_data"
    }
   ],
   "source": [
    "# Run this cell without changes\n",
    "np.random.seed(20)\n",
    "population_ages1 = np.random.normal(20, 4, 10000) \n",
    "population_ages2 = np.random.normal(22, 3, 10000) \n",
    "population_ages = np.concatenate((population_ages1, population_ages2))\n",
    "\n",
    "pop_ages = pd.DataFrame(population_ages, columns=[\"Age\"])\n",
    "pop_ages.hist(bins=100, figsize=(9,9))\n",
    "pop_ages.describe()"
   ]
  },
  {
   "cell_type": "markdown",
   "metadata": {},
   "source": [
    "**Important note:** If we actually had access to the full population data represented above, we would not need to calculate a confidence interval around the mean using sample data. We are taking a sample and calculating a confidence interval for demonstration purposes\n",
    "\n",
    "### Creating a Sample\n",
    "\n",
    "Let's take a new, smaller sample (of size smaller than 30) and calculate how much the sample mean differs from the population mean."
   ]
  },
  {
   "cell_type": "code",
   "execution_count": 5,
   "metadata": {},
   "outputs": [
    {
     "name": "stdout",
     "output_type": "stream",
     "text": [
      "Sample Mean: 19.870788629471857\n",
      "Mean Difference: 1.1377888781920937\n"
     ]
    }
   ],
   "source": [
    "# Replace None with appropriate code\n",
    "\n",
    "np.random.seed(23)\n",
    "\n",
    "sample_size = 25\n",
    "# Take a random sample of size 25 from above population\n",
    "sample = np.random.choice(pop_ages.iloc[:, 0], sample_size)\n",
    "# Calculate sample mean\n",
    "sample_mean = sample.mean()\n",
    "# Calculate population mean\n",
    "population_mean = pop_ages.iloc[:, 0].mean()\n",
    "\n",
    "# Print sample mean and difference of sample and population mean \n",
    "print (\"Sample Mean:\", sample_mean)\n",
    "print (\"Mean Difference:\", population_mean - sample_mean)\n",
    "\n",
    "# Sample Mean: 19.870788629471857\n",
    "# Mean Difference: 1.1377888781920937"
   ]
  },
  {
   "cell_type": "markdown",
   "metadata": {},
   "source": [
    "We can see that the sample mean differs from the population mean by 1.13 years. Recall that the purpose of calculating a confidence interval is attempting to capture the true population parameter (population mean) without having access to the full population data.\n",
    "\n",
    "## Calculating the Confidence Interval \"By Hand\"\n",
    "\n",
    "### Finding the Critical Value\n",
    "\n",
    "For the sake of example, let's say that we are calculating the confidence interval solely based on information in the sample. In other words, unlike when we calculated confidence intervals using the **z-distribution**, we do not have the population standard deviation.\n",
    "\n",
    "We can calculate a confidence interval without the population standard deviation using the **t-distribution**, represented by the `stats.t.ppf(q, df)` function. This function takes in a value for the confidence level required (`q`) with \"degrees of freedom\" (`df`).\n",
    "\n",
    "Hints:\n",
    "- In this case, we want 95% confidence level for a two-tail test. This means the confidence level (`q`) for this function needs to be $(1-0.95)/2$, i.e. $0.975$\n",
    "- In this case, the number of degrees of freedom (`df`) is equal to the sample size minus 1, or `df = sample_size - 1`. \n",
    "\n",
    "Calculate the t-critical value for a 95% confidence level based on the sample taken above."
   ]
  },
  {
   "cell_type": "code",
   "execution_count": 7,
   "metadata": {},
   "outputs": [
    {
     "name": "stdout",
     "output_type": "stream",
     "text": [
      "t-critical value:\n",
      "2.0638985616280205\n"
     ]
    }
   ],
   "source": [
    "# Replace None with appropriate code\n",
    "\n",
    "# Get the t-critical value by using 95% confidence level and degree of freedom\n",
    "t_critical = stats.t.ppf(0.975, df=sample_size-1)\n",
    "\n",
    "# Check the t-critical value\n",
    "print(\"t-critical value:\")\n",
    "print(t_critical)     \n",
    "\n",
    "# t-critical value:\n",
    "# 2.0638985616280205"
   ]
  },
  {
   "cell_type": "markdown",
   "metadata": {},
   "source": [
    "### Finding the Standard Error of the Mean\n",
    "\n",
    "The standard error of the mean is $\\dfrac{S}{\\sqrt{n}}$, where $S$ is the sample standard deviation and $n$ is the sample size.\n",
    "\n",
    "Calculate the standard error of the mean for `sample` below."
   ]
  },
  {
   "cell_type": "code",
   "execution_count": 9,
   "metadata": {},
   "outputs": [
    {
     "name": "stdout",
     "output_type": "stream",
     "text": [
      "Sample Standard Error of the Mean:\n",
      "0.6831115470456731\n"
     ]
    }
   ],
   "source": [
    "# Replace None with appropriate code\n",
    "\n",
    "# Get the sample standard deviation\n",
    "sample_stdev = sample.std()\n",
    "\n",
    "# Calculate the standard error using the formula described above\n",
    "se = sample_stdev / np.sqrt(sample_size)\n",
    "\n",
    "# Check the SE\n",
    "print(\"Sample Standard Error of the Mean:\")\n",
    "print(se)\n",
    "\n",
    "# Sample Standard Error of the Mean:\n",
    "# 0.697197803193802"
   ]
  },
  {
   "cell_type": "markdown",
   "metadata": {},
   "source": [
    "### Finding the Margin of Error and Confidence Interval\n",
    "\n",
    "The margin of error is $t_{\\alpha/2,n-1}\\left(\\dfrac{S}{\\sqrt{n}}\\right)$, i.e. the t-critical value times the standard error.\n",
    "\n",
    "Then the confidence interval is $\\bar{x}\\pm t_{\\alpha/2,n-1}\\left(\\dfrac{S}{\\sqrt{n}}\\right)$, i.e. a tuple containing:\n",
    "- The sample mean minus the margin of error\n",
    "- The sample mean plus the margin of error\n",
    "\n",
    "Calculate both in the cell below."
   ]
  },
  {
   "cell_type": "code",
   "execution_count": 10,
   "metadata": {},
   "outputs": [
    {
     "name": "stdout",
     "output_type": "stream",
     "text": [
      "Confidence Interval:\n",
      "(18.4609156900928, 21.280661568850913)\n"
     ]
    }
   ],
   "source": [
    "# Replace None with appropriate code\n",
    "\n",
    "# Calculate margin of error using t_critical and se\n",
    "margin_of_error = t_critical * se\n",
    "\n",
    "# Calculate the confidence interval using margin_of_error\n",
    "confidence_interval = sample_mean-margin_of_error, sample_mean+margin_of_error\n",
    "\n",
    "# Check the confidence interval\n",
    "print(\"Confidence Interval:\")\n",
    "print(confidence_interval)\n",
    "\n",
    "# Confidence Interval:\n",
    "# (18.431843086289952, 21.309734172653762)"
   ]
  },
  {
   "cell_type": "markdown",
   "metadata": {},
   "source": [
    "### Verifying Our Results with `stats.t.interval`\n",
    "\n",
    "The previous exercise walked through each of the parts of calculating the confidence interval in order to reinforce your understanding of the formula. However, as you may recall from the previous lesson, there is a function within SciPy that will perform a lot of the same logic with a single function call!\n",
    "\n",
    "Let's verify our calculations by using the Python function `stats.t.interval()`:"
   ]
  },
  {
   "cell_type": "code",
   "execution_count": 11,
   "metadata": {},
   "outputs": [
    {
     "name": "stdout",
     "output_type": "stream",
     "text": [
      "True Population Mean:\n",
      "21.00857750766395\n",
      "95% Confidence Interval of Mean Based on Sample:\n",
      "(18.4609156900928, 21.280661568850913)\n"
     ]
    }
   ],
   "source": [
    "# Run this cell without changes\n",
    "\n",
    "ci = stats.t.interval(\n",
    "    alpha=0.95,         # Confidence level\n",
    "    df=sample_size - 1, # Degrees of freedom\n",
    "    loc=sample_mean,    # Sample mean\n",
    "    scale=se            # Standard error\n",
    ")\n",
    "\n",
    "print(\"True Population Mean:\")\n",
    "print(population_mean)\n",
    "print(\"95% Confidence Interval of Mean Based on Sample:\")\n",
    "print(ci)\n",
    "\n",
    "# True Population Mean:\n",
    "# 21.00857750766395\n",
    "# 95% Confidence Interval of Mean Based on Sample:\n",
    "# (18.431843086289952, 21.309734172653762)"
   ]
  },
  {
   "cell_type": "markdown",
   "metadata": {},
   "source": [
    "Going forward, if you know that the confidence interval is the desired end result, you can just use the above function instead of calculating the critical t and margin of error \"by hand\".\n",
    "\n",
    "### Interpreting the Confidence Interval\n",
    "\n",
    "We can see that the calculated confidence interval (`ci`) includes the true population mean (`population_mean`) calculated above. Since we generated a 95% confidence interval, we would expect that, if we repeatedly drew samples and calculated confidence intervals in the same way, the true population mean would be present within 95% of the confidence intervals we would calculate.\n",
    "\n",
    "We will illustrate (and visualize!) this point below.\n",
    "\n",
    "## Confidence Intervals of Repeated Samples\n",
    "\n",
    "Let's run the code multiple times to see how often our estimated confidence interval covers the population mean value:\n",
    "\n",
    "**Refactor the code above into a function called `conf_interval` that takes in sample data and returns a confidence interval for the population mean.**\n",
    "\n",
    "The starter code is below, and we have used slightly different variable names to represent the same concepts."
   ]
  },
  {
   "cell_type": "code",
   "execution_count": 13,
   "metadata": {},
   "outputs": [
    {
     "data": {
      "text/plain": [
       "(18.23750354390603, 21.504073715037688)"
      ]
     },
     "execution_count": 13,
     "metadata": {},
     "output_type": "execute_result"
    }
   ],
   "source": [
    "# Replace None with appropriate code\n",
    "\n",
    "def conf_interval(sample):\n",
    "    '''\n",
    "    Input:  Sample data\n",
    "    Output: Confidence interval for the mean of the\n",
    "            population that the sample was drawn from\n",
    "    '''\n",
    "    \n",
    "    # Sample size\n",
    "    n = len(sample)\n",
    "    # Sample mean\n",
    "    x_hat = sample.mean()\n",
    "    \n",
    "    # Standard error of the mean\n",
    "    standard_error = sample_stdev / np.sqrt(sample_size)\n",
    "    \n",
    "    # Compute confidence interval with stats.t.interval\n",
    "    conf = stats.t.interval(0.975, df=n-1, loc=x_hat, scale=standard_error)\n",
    "    \n",
    "    return conf\n",
    "\n",
    "# Confirm that this produces the same interval as the previous code\n",
    "conf_interval(sample)\n",
    "\n",
    "# (18.431843086289952, 21.309734172653762)"
   ]
  },
  {
   "cell_type": "markdown",
   "metadata": {},
   "source": [
    "Now we can test out what happens if we repeatedly take samples from the same population.\n",
    "\n",
    "**Call the function 20 times, taking different samples at each iteration and calculating the sample mean and confidence intervals**\n",
    "\n",
    "Hints:\n",
    "- `sample_means` should be a list of numbers\n",
    "- `intervals` should be a list of tuples (each tuple containing two numbers)"
   ]
  },
  {
   "cell_type": "code",
   "execution_count": 15,
   "metadata": {},
   "outputs": [],
   "source": [
    "# Replace None with appropriate code\n",
    "\n",
    "# Set random seed for reproducibility\n",
    "np.random.seed(12)\n",
    "\n",
    "# Select the sample size \n",
    "sample_size = 25\n",
    "\n",
    "# Initialize lists to store interval and mean values\n",
    "sample_means = []\n",
    "intervals = []\n",
    "\n",
    "# Run a for loop for sampling 20 times and calculate + store \n",
    "# confidence interval and sample mean values in lists initialized above\n",
    "\n",
    "for sample in range(20):\n",
    "    # Take a random sample of chosen size from population_ages\n",
    "    random_sample = np.random.choice(pop_ages.iloc[:, 0], sample_size)\n",
    "    \n",
    "    # Calculate sample mean and confidence_interval\n",
    "    sample_mean = np.mean(random_sample)\n",
    "    confidence_interval = conf_interval(random_sample)\n",
    "\n",
    "    # adding to list\n",
    "    sample_means.append(sample_mean)\n",
    "    intervals.append(confidence_interval)\n"
   ]
  },
  {
   "cell_type": "markdown",
   "metadata": {},
   "source": [
    "**Use the code below to plot the confidence intervals along with the sample means and population mean**"
   ]
  },
  {
   "cell_type": "code",
   "execution_count": 16,
   "metadata": {},
   "outputs": [
    {
     "data": {
      "image/png": "[encoded data removed]",
      "text/plain": [
       "<Figure size 1080x504 with 1 Axes>"
      ]
     },
     "metadata": {},
     "output_type": "display_data"
    }
   ],
   "source": [
    "# Run this cell without changes\n",
    "\n",
    "# Set up figure\n",
    "fig, ax = plt.subplots(figsize=(15,7))\n",
    "\n",
    "# Draw the means and confidence intervals for each sample\n",
    "ax.errorbar(\n",
    "    x=np.arange(1, 21, 1),\n",
    "    y=sample_means,\n",
    "    yerr=[(upper-lower)/2 for lower, upper in intervals],\n",
    "    fmt='o',\n",
    "    color=\"gray\",\n",
    "    markerfacecolor=\"blue\"\n",
    ")\n",
    "\n",
    "# Draw the population mean as a horizontal line \n",
    "ax.hlines(\n",
    "    xmin=0,\n",
    "    xmax=21,\n",
    "    y=population_ages.mean(), \n",
    "    linewidth=2.0,\n",
    "    color=\"red\"\n",
    ")\n",
    "\n",
    "# Label plot\n",
    "ax.set_xlabel(\"Samples\")\n",
    "ax.set_ylabel(\"Means\")\n",
    "\n",
    "# Customize legend appearance\n",
    "legend_elements = [\n",
    "    # Sample mean (blue circle with gray edge)\n",
    "    Line2D(\n",
    "        [0], # \"Dummy\" line being graphed\n",
    "        [0], # for use in the legend\n",
    "        marker=\"o\",\n",
    "        color=\"w\",\n",
    "        markerfacecolor=\"blue\",\n",
    "        markeredgecolor=\"gray\"\n",
    "    ),\n",
    "    # Confidence interval (gray vertical line)\n",
    "    Line2D(\n",
    "        [0],\n",
    "        [0],\n",
    "        marker=\"|\",\n",
    "        markersize=15,\n",
    "        color=\"w\",\n",
    "        markeredgewidth=1.5,\n",
    "        markeredgecolor=\"gray\"\n",
    "    ),\n",
    "    # Population mean (red horizontal line)\n",
    "    Line2D([0],[0], color=\"red\")\n",
    "]\n",
    "\n",
    "ax.legend(\n",
    "    handles=legend_elements,\n",
    "    labels=[\"Sample Mean\", \"Sample Confidence Interval for Mean\", \"True Population Mean\"],\n",
    "    loc=\"lower left\", \n",
    "    fontsize=\"large\"\n",
    ");"
   ]
  },
  {
   "cell_type": "markdown",
   "metadata": {},
   "source": [
    "### Interpreting Confidence Intervals of Repeated Samples\n",
    "\n",
    "Just like the last lab, all but one of the 95% confidence intervals overlap the red line marking the true mean. This is to be expected: since we're generating a 95% confidence interval, we would expect after repeatedly sampling and calculating confidence intervals that 95% of the confidence intervals calculated would contain the true population mean, while 5% would not.\n",
    "\n",
    "It won't always turn out at exactly 1 out of 20 like this (just like flipping a coin twice won't always give you 1 heads and 1 tails), but this particular example turned out nicely."
   ]
  },
  {
   "cell_type": "markdown",
   "metadata": {},
   "source": [
    "## Summary\n",
    "\n",
    "In this lab, we learned how to use confidence intervals when the population standard deviation is not known, and the sample size is small (<30). Specifically, we constructed confidence intervals \"by hand\" using the t-critical value and margin of error, then saw how to use `stats.t.interval` instead. We also demonstrated an example of multiple samples being taken and confidence intervals being calculated, and how this relates to the 95% confidence level. "
   ]
  }
 ],
 "metadata": {
  "kernelspec": {
   "display_name": "Python 3",
   "language": "python",
   "name": "python3"
  },
  "language_info": {
   "codemirror_mode": {
    "name": "ipython",
    "version": 3
   },
   "file_extension": ".py",
   "mimetype": "text/x-python",
   "name": "python",
   "nbconvert_exporter": "python",
   "pygments_lexer": "ipython3",
   "version": "3.8.5"
  },
  "toc": {
   "base_numbering": 1,
   "nav_menu": {},
   "number_sections": true,
   "sideBar": true,
   "skip_h1_title": false,
   "title_cell": "Table of Contents",
   "title_sidebar": "Contents",
   "toc_cell": false,
   "toc_position": {},
   "toc_section_display": true,
   "toc_window_display": false
  }
 },
 "nbformat": 4,
 "nbformat_minor": 2
}
